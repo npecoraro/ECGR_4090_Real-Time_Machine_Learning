{
 "cells": [
  {
   "cell_type": "code",
   "execution_count": 1,
   "metadata": {},
   "outputs": [],
   "source": [
    "import torch\n"
   ]
  },
  {
   "cell_type": "code",
   "execution_count": 2,
   "metadata": {},
   "outputs": [],
   "source": [
    "import time"
   ]
  },
  {
   "cell_type": "code",
   "execution_count": 3,
   "metadata": {},
   "outputs": [],
   "source": [
    "from jetcam.csi_camera import CSICamera"
   ]
  },
  {
   "cell_type": "code",
   "execution_count": 4,
   "metadata": {},
   "outputs": [],
   "source": [
    "#camera = CSICamera(width=224, height=244, capture_width=1080, capture_height=720, capture_fps=30)"
   ]
  },
  {
   "cell_type": "code",
   "execution_count": 5,
   "metadata": {},
   "outputs": [
    {
     "name": "stderr",
     "output_type": "stream",
     "text": [
      "Using cache found in /home/nathan/.cache/torch/hub/ultralytics_yolov5_master\n",
      "\n",
      "                 from  n    params  module                                  arguments                     \n",
      "  0                -1  1      3520  models.common.Focus                     [3, 32, 3]                    \n",
      "  1                -1  1     18560  models.common.Conv                      [32, 64, 3, 2]                \n",
      "  2                -1  1     18816  models.common.C3                        [64, 64, 1]                   \n",
      "  3                -1  1     73984  models.common.Conv                      [64, 128, 3, 2]               \n",
      "  4                -1  1    156928  models.common.C3                        [128, 128, 3]                 \n",
      "  5                -1  1    295424  models.common.Conv                      [128, 256, 3, 2]              \n",
      "  6                -1  1    625152  models.common.C3                        [256, 256, 3]                 \n",
      "  7                -1  1   1180672  models.common.Conv                      [256, 512, 3, 2]              \n",
      "  8                -1  1    656896  models.common.SPP                       [512, 512, [5, 9, 13]]        \n",
      "  9                -1  1   1182720  models.common.C3                        [512, 512, 1, False]          \n",
      " 10                -1  1    131584  models.common.Conv                      [512, 256, 1, 1]              \n",
      " 11                -1  1         0  torch.nn.modules.upsampling.Upsample    [None, 2, 'nearest']          \n",
      " 12           [-1, 6]  1         0  models.common.Concat                    [1]                           \n",
      " 13                -1  1    361984  models.common.C3                        [512, 256, 1, False]          \n",
      " 14                -1  1     33024  models.common.Conv                      [256, 128, 1, 1]              \n",
      " 15                -1  1         0  torch.nn.modules.upsampling.Upsample    [None, 2, 'nearest']          \n",
      " 16           [-1, 4]  1         0  models.common.Concat                    [1]                           \n",
      " 17                -1  1     90880  models.common.C3                        [256, 128, 1, False]          \n",
      " 18                -1  1    147712  models.common.Conv                      [128, 128, 3, 2]              \n",
      " 19          [-1, 14]  1         0  models.common.Concat                    [1]                           \n",
      " 20                -1  1    296448  models.common.C3                        [256, 256, 1, False]          \n",
      " 21                -1  1    590336  models.common.Conv                      [256, 256, 3, 2]              \n",
      " 22          [-1, 10]  1         0  models.common.Concat                    [1]                           \n",
      " 23                -1  1   1182720  models.common.C3                        [512, 512, 1, False]          \n",
      " 24      [17, 20, 23]  1    229245  models.yolo.Detect                      [80, [[10, 13, 16, 30, 33, 23], [30, 61, 62, 45, 59, 119], [116, 90, 156, 198, 373, 326]], [128, 256, 512]]\n",
      "Model Summary: 283 layers, 7276605 parameters, 7276605 gradients\n",
      "\n"
     ]
    },
    {
     "name": "stdout",
     "output_type": "stream",
     "text": [
      "Adding autoShape... \n"
     ]
    }
   ],
   "source": [
    "model = torch.hub.load('ultralytics/yolov5', 'yolov5s', pretrained=True)"
   ]
  },
  {
   "cell_type": "code",
   "execution_count": 6,
   "metadata": {},
   "outputs": [],
   "source": [
    "from PIL import Image"
   ]
  },
  {
   "cell_type": "code",
   "execution_count": 7,
   "metadata": {},
   "outputs": [],
   "source": [
    "imgs= ['HW1_IMGS/intersection1.jpeg']"
   ]
  },
  {
   "cell_type": "code",
   "execution_count": 8,
   "metadata": {},
   "outputs": [],
   "source": [
    "#img2 = ['HW1_IMGS/intersection2.jpg']"
   ]
  },
  {
   "cell_type": "code",
   "execution_count": 9,
   "metadata": {},
   "outputs": [],
   "source": [
    "#dir =  'HW1_IMGS/'"
   ]
  },
  {
   "cell_type": "code",
   "execution_count": 10,
   "metadata": {},
   "outputs": [],
   "source": [
    "#imgs = [dir + f for f in ('intersection1.jpeg', 'intersection2.jpg', 'elephants3.jpeg', 'concert4.jpg', 'champs5.jpg', 'abbeyroad6.jpg', 'miles7.jpg', 'airplane8.jpeg')]"
   ]
  },
  {
   "cell_type": "code",
   "execution_count": 11,
   "metadata": {},
   "outputs": [],
   "source": [
    "#imgs = [dir + f for f in ('intersection1.jpeg', 'intersection2.jpg', 'elephants3.jpeg', 'concert4.jpg', 'champs5.jpg', 'abbeyroad6.jpg', 'miles7.jpg', 'airplane8.jpeg', 'chess9.jpg', 'norm10.jpg', 'formula11.jpg', 'formula12.jpg', 'intersection13.jpeg', 'highway14.jpeg', 'highway15.jpg', 'highway16.jpeg')]"
   ]
  },
  {
   "cell_type": "code",
   "execution_count": 12,
   "metadata": {},
   "outputs": [],
   "source": [
    "start = time.time()"
   ]
  },
  {
   "cell_type": "code",
   "execution_count": 13,
   "metadata": {},
   "outputs": [],
   "source": [
    "results = model(imgs)"
   ]
  },
  {
   "cell_type": "code",
   "execution_count": 14,
   "metadata": {},
   "outputs": [],
   "source": [
    "stop = time.time()"
   ]
  },
  {
   "cell_type": "code",
   "execution_count": 15,
   "metadata": {},
   "outputs": [],
   "source": [
    "duration = stop - start"
   ]
  },
  {
   "cell_type": "code",
   "execution_count": 16,
   "metadata": {
    "scrolled": true
   },
   "outputs": [
    {
     "name": "stdout",
     "output_type": "stream",
     "text": [
      "1.3835821151733398\n"
     ]
    }
   ],
   "source": [
    "print(duration)"
   ]
  },
  {
   "cell_type": "code",
   "execution_count": 17,
   "metadata": {},
   "outputs": [
    {
     "name": "stdout",
     "output_type": "stream",
     "text": [
      "image 1/1: 159x317 16 cars, 5 trucks\n"
     ]
    }
   ],
   "source": [
    "results.print()"
   ]
  },
  {
   "cell_type": "code",
   "execution_count": 18,
   "metadata": {},
   "outputs": [],
   "source": [
    "results.show()"
   ]
  },
  {
   "cell_type": "code",
   "execution_count": 19,
   "metadata": {},
   "outputs": [
    {
     "name": "stdout",
     "output_type": "stream",
     "text": [
      "tensor([[1.94615e+02, 9.06307e+01, 2.23172e+02, 1.12403e+02, 8.40292e-01, 2.00000e+00],\n",
      "        [8.66643e+01, 1.10776e+02, 1.27881e+02, 1.48055e+02, 8.25799e-01, 2.00000e+00],\n",
      "        [1.39504e+02, 9.58905e+01, 1.70814e+02, 1.20928e+02, 7.91179e-01, 2.00000e+00],\n",
      "        [4.18715e+01, 5.99243e+01, 6.33499e+01, 7.59218e+01, 7.90825e-01, 2.00000e+00],\n",
      "        [2.75434e+02, 5.85942e+01, 3.16653e+02, 1.26972e+02, 7.74680e-01, 7.00000e+00],\n",
      "        [1.00058e+02, 7.17399e+01, 1.25900e+02, 8.70691e+01, 7.74660e-01, 2.00000e+00],\n",
      "        [1.59089e+02, 1.10985e+02, 2.01947e+02, 1.47230e+02, 7.29786e-01, 2.00000e+00],\n",
      "        [1.12981e+01, 2.08381e+01, 2.43699e+01, 3.19410e+01, 6.72957e-01, 2.00000e+00],\n",
      "        [7.45353e+01, 5.29888e+01, 9.76836e+01, 7.57257e+01, 6.63353e-01, 2.00000e+00],\n",
      "        [1.89096e+01, 4.37934e+01, 3.92430e+01, 6.14303e+01, 6.49251e-01, 2.00000e+00],\n",
      "        [8.83156e+01, 3.38676e+01, 1.03929e+02, 4.77173e+01, 6.19591e-01, 2.00000e+00],\n",
      "        [1.19996e+02, 4.58911e+01, 1.56322e+02, 7.96427e+01, 5.54723e-01, 7.00000e+00],\n",
      "        [1.72101e+02, 7.18383e+01, 2.02602e+02, 1.00674e+02, 5.35317e-01, 2.00000e+00],\n",
      "        [6.64003e+01, 1.57755e+01, 7.72109e+01, 2.51147e+01, 5.34648e-01, 2.00000e+00],\n",
      "        [1.56921e+02, 5.56079e+01, 1.80160e+02, 7.58110e+01, 5.28260e-01, 7.00000e+00],\n",
      "        [5.24146e+01, 9.62917e+00, 6.25763e+01, 1.79403e+01, 4.75843e-01, 2.00000e+00],\n",
      "        [3.28740e+01, 2.66361e+01, 4.68733e+01, 3.82365e+01, 4.41325e-01, 2.00000e+00],\n",
      "        [1.60302e+02, 1.10495e+02, 2.02642e+02, 1.46591e+02, 4.12797e-01, 7.00000e+00],\n",
      "        [1.10590e+02, 4.48302e+01, 1.25443e+02, 5.61049e+01, 3.87998e-01, 2.00000e+00],\n",
      "        [1.73616e+02, 6.83944e+01, 2.02180e+02, 1.00137e+02, 2.86566e-01, 7.00000e+00],\n",
      "        [1.79108e+02, 6.61115e+01, 2.01806e+02, 7.98336e+01, 2.67304e-01, 2.00000e+00]])\n"
     ]
    }
   ],
   "source": [
    "print(results.xyxy[0])"
   ]
  }
 ],
 "metadata": {
  "kernelspec": {
   "display_name": "Python 3",
   "language": "python",
   "name": "python3"
  },
  "language_info": {
   "codemirror_mode": {
    "name": "ipython",
    "version": 3
   },
   "file_extension": ".py",
   "mimetype": "text/x-python",
   "name": "python",
   "nbconvert_exporter": "python",
   "pygments_lexer": "ipython3",
   "version": "3.6.9"
  }
 },
 "nbformat": 4,
 "nbformat_minor": 2
}
