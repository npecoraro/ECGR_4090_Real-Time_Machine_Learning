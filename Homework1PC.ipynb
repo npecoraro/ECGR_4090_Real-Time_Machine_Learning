{
 "cells": [
  {
   "cell_type": "code",
   "execution_count": 1,
   "metadata": {},
   "outputs": [],
   "source": [
    "import torch"
   ]
  },
  {
   "cell_type": "code",
   "execution_count": 2,
   "metadata": {},
   "outputs": [],
   "source": [
    "import time"
   ]
  },
  {
   "cell_type": "code",
   "execution_count": 3,
   "metadata": {},
   "outputs": [
    {
     "name": "stderr",
     "output_type": "stream",
     "text": [
      "Using cache found in C:\\Users\\npeco/.cache\\torch\\hub\\ultralytics_yolov5_master\n",
      "\n",
      "                 from  n    params  module                                  arguments                     \n",
      "  0                -1  1      3520  models.common.Focus                     [3, 32, 3]                    \n",
      "  1                -1  1     18560  models.common.Conv                      [32, 64, 3, 2]                \n",
      "  2                -1  1     18816  models.common.C3                        [64, 64, 1]                   \n",
      "  3                -1  1     73984  models.common.Conv                      [64, 128, 3, 2]               \n",
      "  4                -1  1    156928  models.common.C3                        [128, 128, 3]                 \n",
      "  5                -1  1    295424  models.common.Conv                      [128, 256, 3, 2]              \n",
      "  6                -1  1    625152  models.common.C3                        [256, 256, 3]                 \n",
      "  7                -1  1   1180672  models.common.Conv                      [256, 512, 3, 2]              \n",
      "  8                -1  1    656896  models.common.SPP                       [512, 512, [5, 9, 13]]        \n",
      "  9                -1  1   1182720  models.common.C3                        [512, 512, 1, False]          \n",
      " 10                -1  1    131584  models.common.Conv                      [512, 256, 1, 1]              \n",
      " 11                -1  1         0  torch.nn.modules.upsampling.Upsample    [None, 2, 'nearest']          \n",
      " 12           [-1, 6]  1         0  models.common.Concat                    [1]                           \n",
      " 13                -1  1    361984  models.common.C3                        [512, 256, 1, False]          \n",
      " 14                -1  1     33024  models.common.Conv                      [256, 128, 1, 1]              \n",
      " 15                -1  1         0  torch.nn.modules.upsampling.Upsample    [None, 2, 'nearest']          \n",
      " 16           [-1, 4]  1         0  models.common.Concat                    [1]                           \n",
      " 17                -1  1     90880  models.common.C3                        [256, 128, 1, False]          \n",
      " 18                -1  1    147712  models.common.Conv                      [128, 128, 3, 2]              \n",
      " 19          [-1, 14]  1         0  models.common.Concat                    [1]                           \n",
      " 20                -1  1    296448  models.common.C3                        [256, 256, 1, False]          \n",
      " 21                -1  1    590336  models.common.Conv                      [256, 256, 3, 2]              \n",
      " 22          [-1, 10]  1         0  models.common.Concat                    [1]                           \n",
      " 23                -1  1   1182720  models.common.C3                        [512, 512, 1, False]          \n",
      " 24      [17, 20, 23]  1    229245  models.yolo.Detect                      [80, [[10, 13, 16, 30, 33, 23], [30, 61, 62, 45, 59, 119], [116, 90, 156, 198, 373, 326]], [128, 256, 512]]\n",
      "Model Summary: 283 layers, 7276605 parameters, 7276605 gradients, 17.1 GFLOPS\n",
      "\n"
     ]
    },
    {
     "name": "stdout",
     "output_type": "stream",
     "text": [
      "Adding autoShape... \n"
     ]
    }
   ],
   "source": [
    "model = torch.hub.load('ultralytics/yolov5', 'yolov5s', pretrained=True)"
   ]
  },
  {
   "cell_type": "code",
   "execution_count": 4,
   "metadata": {
    "scrolled": true
   },
   "outputs": [],
   "source": [
    "from PIL import Image"
   ]
  },
  {
   "cell_type": "code",
   "execution_count": 5,
   "metadata": {},
   "outputs": [],
   "source": [
    "img = ['HW1_IMG_PC/intersection.jpg']"
   ]
  },
  {
   "cell_type": "code",
   "execution_count": 6,
   "metadata": {},
   "outputs": [
    {
     "data": {
      "text/plain": [
       "['HW1_IMG_PC/intersection.jpg']"
      ]
     },
     "execution_count": 6,
     "metadata": {},
     "output_type": "execute_result"
    }
   ],
   "source": [
    "img"
   ]
  },
  {
   "cell_type": "code",
   "execution_count": 7,
   "metadata": {},
   "outputs": [],
   "source": [
    "start=time.time()"
   ]
  },
  {
   "cell_type": "code",
   "execution_count": 8,
   "metadata": {},
   "outputs": [],
   "source": [
    "results = model(img)"
   ]
  },
  {
   "cell_type": "code",
   "execution_count": 9,
   "metadata": {},
   "outputs": [],
   "source": [
    "stop = time.time()"
   ]
  },
  {
   "cell_type": "code",
   "execution_count": 10,
   "metadata": {},
   "outputs": [],
   "source": [
    "duration = stop - start"
   ]
  },
  {
   "cell_type": "code",
   "execution_count": 11,
   "metadata": {},
   "outputs": [
    {
     "name": "stdout",
     "output_type": "stream",
     "text": [
      "0.1679520606994629\n"
     ]
    }
   ],
   "source": [
    "print(duration)"
   ]
  },
  {
   "cell_type": "code",
   "execution_count": 12,
   "metadata": {},
   "outputs": [
    {
     "name": "stdout",
     "output_type": "stream",
     "text": [
      "image 1/1: 395x675 13 persons, 1 bicycle, 8 cars, 6 traffic lights\n"
     ]
    }
   ],
   "source": [
    "results.print()"
   ]
  },
  {
   "cell_type": "code",
   "execution_count": 13,
   "metadata": {},
   "outputs": [
    {
     "name": "stdout",
     "output_type": "stream",
     "text": [
      "Saving results\\intersection.jpg, done.\n"
     ]
    }
   ],
   "source": [
    "results.save()"
   ]
  },
  {
   "cell_type": "code",
   "execution_count": 14,
   "metadata": {},
   "outputs": [],
   "source": [
    "results.show()"
   ]
  },
  {
   "cell_type": "code",
   "execution_count": 15,
   "metadata": {
    "scrolled": true
   },
   "outputs": [
    {
     "name": "stdout",
     "output_type": "stream",
     "text": [
      "tensor([[7.94699e+01, 3.19460e+02, 2.74654e+02, 3.76748e+02, 8.95710e-01, 2.00000e+00],\n",
      "        [2.78278e+02, 3.09023e+02, 3.07537e+02, 3.55771e+02, 7.63019e-01, 0.00000e+00],\n",
      "        [6.22714e+02, 3.02026e+02, 6.52757e+02, 3.59472e+02, 7.58617e-01, 0.00000e+00],\n",
      "        [2.90976e+01, 1.29645e+02, 4.62098e+01, 1.72308e+02, 7.24006e-01, 9.00000e+00],\n",
      "        [3.91269e+02, 3.07902e+02, 4.24146e+02, 3.31244e+02, 7.01558e-01, 2.00000e+00],\n",
      "        [2.95337e+01, 3.06200e+02, 4.74333e+01, 3.55652e+02, 6.25979e-01, 0.00000e+00],\n",
      "        [4.65521e+02, 1.99535e+02, 4.84847e+02, 2.25603e+02, 6.23318e-01, 9.00000e+00],\n",
      "        [3.75597e-01, 1.29926e+02, 1.88851e+01, 1.80236e+02, 6.07227e-01, 9.00000e+00],\n",
      "        [4.99739e+02, 3.00881e+02, 5.22358e+02, 3.51339e+02, 5.95280e-01, 0.00000e+00],\n",
      "        [6.58513e+02, 3.02235e+02, 6.74564e+02, 3.47453e+02, 5.48456e-01, 0.00000e+00],\n",
      "        [3.74588e+02, 3.11659e+02, 3.97636e+02, 3.54567e+02, 5.47823e-01, 0.00000e+00],\n",
      "        [4.39102e+02, 3.07378e+02, 4.67755e+02, 3.57900e+02, 5.17781e-01, 0.00000e+00],\n",
      "        [1.24323e+02, 3.08444e+02, 1.37137e+02, 3.38778e+02, 5.15366e-01, 0.00000e+00],\n",
      "        [4.59721e+02, 3.10941e+02, 4.87547e+02, 3.45406e+02, 5.12576e-01, 2.00000e+00],\n",
      "        [3.10274e+02, 3.08105e+02, 3.26762e+02, 3.55918e+02, 5.09789e-01, 0.00000e+00],\n",
      "        [3.21835e+02, 3.07249e+02, 3.37885e+02, 3.53479e+02, 4.73214e-01, 0.00000e+00],\n",
      "        [3.47569e+02, 3.01585e+02, 3.84714e+02, 3.41016e+02, 4.18176e-01, 2.00000e+00],\n",
      "        [1.23096e+01, 1.30247e+02, 3.03833e+01, 1.70800e+02, 4.02737e-01, 9.00000e+00],\n",
      "        [5.44216e+02, 3.04972e+02, 5.58820e+02, 3.34209e+02, 3.99701e-01, 0.00000e+00],\n",
      "        [2.95100e+02, 3.01795e+02, 3.14160e+02, 3.18575e+02, 3.89050e-01, 2.00000e+00],\n",
      "        [4.25081e+02, 3.03159e+02, 4.41283e+02, 3.46229e+02, 3.68967e-01, 0.00000e+00],\n",
      "        [2.64592e+02, 3.06404e+02, 2.84280e+02, 3.20214e+02, 3.68940e-01, 2.00000e+00],\n",
      "        [1.93678e+00, 1.30607e+02, 4.65616e+01, 1.72063e+02, 3.66172e-01, 9.00000e+00],\n",
      "        [5.30903e+02, 3.26621e+02, 5.71916e+02, 3.50386e+02, 3.22366e-01, 1.00000e+00],\n",
      "        [2.62778e+02, 2.72247e+02, 2.70914e+02, 2.86110e+02, 3.20963e-01, 9.00000e+00],\n",
      "        [5.09767e+02, 3.08539e+02, 5.46006e+02, 3.44993e+02, 2.87327e-01, 2.00000e+00],\n",
      "        [4.39105e+02, 3.09794e+02, 4.81194e+02, 3.49554e+02, 2.77198e-01, 2.00000e+00],\n",
      "        [3.42437e+02, 3.05598e+02, 3.59876e+02, 3.49446e+02, 2.58761e-01, 0.00000e+00]])\n"
     ]
    }
   ],
   "source": [
    "print(results.xyxy[0])"
   ]
  },
  {
   "cell_type": "code",
   "execution_count": null,
   "metadata": {},
   "outputs": [],
   "source": []
  },
  {
   "cell_type": "code",
   "execution_count": null,
   "metadata": {},
   "outputs": [],
   "source": []
  },
  {
   "cell_type": "code",
   "execution_count": null,
   "metadata": {},
   "outputs": [],
   "source": []
  },
  {
   "cell_type": "code",
   "execution_count": null,
   "metadata": {},
   "outputs": [],
   "source": []
  },
  {
   "cell_type": "code",
   "execution_count": null,
   "metadata": {},
   "outputs": [],
   "source": []
  },
  {
   "cell_type": "code",
   "execution_count": null,
   "metadata": {},
   "outputs": [],
   "source": []
  },
  {
   "cell_type": "code",
   "execution_count": null,
   "metadata": {},
   "outputs": [],
   "source": []
  },
  {
   "cell_type": "code",
   "execution_count": null,
   "metadata": {},
   "outputs": [],
   "source": []
  },
  {
   "cell_type": "code",
   "execution_count": null,
   "metadata": {},
   "outputs": [],
   "source": []
  },
  {
   "cell_type": "code",
   "execution_count": null,
   "metadata": {},
   "outputs": [],
   "source": []
  },
  {
   "cell_type": "code",
   "execution_count": null,
   "metadata": {},
   "outputs": [],
   "source": []
  },
  {
   "cell_type": "code",
   "execution_count": null,
   "metadata": {},
   "outputs": [],
   "source": []
  },
  {
   "cell_type": "code",
   "execution_count": null,
   "metadata": {},
   "outputs": [],
   "source": []
  },
  {
   "cell_type": "code",
   "execution_count": null,
   "metadata": {},
   "outputs": [],
   "source": []
  }
 ],
 "metadata": {
  "kernelspec": {
   "display_name": "Python 3",
   "language": "python",
   "name": "python3"
  },
  "language_info": {
   "codemirror_mode": {
    "name": "ipython",
    "version": 3
   },
   "file_extension": ".py",
   "mimetype": "text/x-python",
   "name": "python",
   "nbconvert_exporter": "python",
   "pygments_lexer": "ipython3",
   "version": "3.8.5"
  }
 },
 "nbformat": 4,
 "nbformat_minor": 2
}
